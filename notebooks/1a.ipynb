{
 "cells": [
  {
   "cell_type": "code",
   "execution_count": null,
   "id": "20f91b1b",
   "metadata": {},
   "outputs": [],
   "source": [
    "import pandas as pd\n",
    "import numpy as np\n",
    "\n",
    "import matplotlib.pyplot as plt\n",
    "\n",
    "from datetime import datetime, timedelta\n",
    "import warnings\n",
    "warnings.filterwarnings('ignore')\n",
    "\n",
    "from mimiciii_db import DB\n",
    "from mimiciii_db.config import db_url"
   ]
  },
  {
   "cell_type": "code",
   "execution_count": null,
   "id": "928d9100",
   "metadata": {},
   "outputs": [],
   "source": [
    "db = DB.from_url(db_url())\n",
    "print(\"Database connected successfully!\")"
   ]
  },
  {
   "cell_type": "code",
   "execution_count": null,
   "id": "71e52bed",
   "metadata": {},
   "outputs": [],
   "source": [
    "query = \"\"\"\n",
    "SELECT * from mimiciii.varun_multimorbidity_by_age_bracket_1a\n",
    "\"\"\"\n",
    "\n",
    "# Use your database connection\n",
    "df = db.query_df(query)\n",
    "df"
   ]
  },
  {
   "cell_type": "code",
   "execution_count": null,
   "id": "b654c8cc",
   "metadata": {},
   "outputs": [],
   "source": [
    "plt.figure(figsize=(10,5))\n",
    "\n",
    "plt.bar(df['age_bracket'], df['pct_multimorbid'], yerr=df['se_pct'],\n",
    "        capsize=10,\n",
    "        width=0.75,\n",
    "        color='black',\n",
    "        edgecolor='white')\n",
    "\n",
    "plt.ylim(0, 100)\n",
    "\n",
    "plt.xlabel('Age', fontsize=12)\n",
    "plt.ylabel('Patients with Multimorbidity', fontsize=12)\n",
    "plt.title('Percent of Patients with Multimorbidity by Age Bracket', fontsize=15)\n",
    "\n",
    "plt.tight_layout()\n",
    "plt.show();"
   ]
  }
 ],
 "metadata": {
  "kernelspec": {
   "display_name": "default",
   "language": "python",
   "name": "python3"
  },
  "language_info": {
   "codemirror_mode": {
    "name": "ipython",
    "version": 3
   },
   "file_extension": ".py",
   "mimetype": "text/x-python",
   "name": "python",
   "nbconvert_exporter": "python",
   "pygments_lexer": "ipython3",
   "version": "3.11.13"
  }
 },
 "nbformat": 4,
 "nbformat_minor": 5
}
