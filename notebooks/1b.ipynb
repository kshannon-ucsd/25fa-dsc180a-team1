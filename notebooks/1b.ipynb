{
 "cells": [
  {
   "cell_type": "code",
   "execution_count": null,
   "id": "f1298427",
   "metadata": {},
   "outputs": [],
   "source": [
    "import pandas as pd\n",
    "import numpy as np\n",
    "\n",
    "import matplotlib.pyplot as plt\n",
    "import seaborn as sns\n",
    "\n",
    "from datetime import datetime, timedelta\n",
    "import warnings\n",
    "warnings.filterwarnings('ignore')\n",
    "\n",
    "from mimiciii_db import DB\n",
    "from mimiciii_db.config import db_url"
   ]
  },
  {
   "cell_type": "code",
   "execution_count": null,
   "id": "ed4000d3",
   "metadata": {},
   "outputs": [],
   "source": [
    "db = DB.from_url(db_url())\n",
    "print(\"Database connected successfully!\")"
   ]
  },
  {
   "cell_type": "code",
   "execution_count": null,
   "id": "5cde7adc",
   "metadata": {},
   "outputs": [],
   "source": [
    "query = \"\"\"\n",
    "SELECT * FROM filtered_patients_agegrouped_with_morbidities\n",
    "\"\"\"\n",
    "\n",
    "# Use your database connection\n",
    "df = db.query_df(query)\n",
    "df"
   ]
  },
  {
   "cell_type": "code",
   "execution_count": null,
   "id": "98fe6a3b",
   "metadata": {},
   "outputs": [],
   "source": [
    "df_long = df.melt(\n",
    "    id_vars=[\"age_bin\"],\n",
    "    var_name=\"comorbidity\",\n",
    "    value_name=\"present\"\n",
    ")\n",
    "heat = (\n",
    "    df_long.groupby([\"age_bin\", \"comorbidity\"])[\"present\"]\n",
    "    .mean()\n",
    "    .mul(100)\n",
    "    .reset_index(name=\"prevalence_pct\")\n",
    ")\n",
    "\n",
    "heat = heat[~heat[\"comorbidity\"].isin([\"hadm_id\", \"age\", \"subject_id\"])]\n",
    "heat"
   ]
  },
  {
   "cell_type": "code",
   "execution_count": null,
   "id": "d7a05f0d",
   "metadata": {},
   "outputs": [],
   "source": [
    "disease_order = [\n",
    "    \"other_neurological\", \"coagulopathy\", \"depression\", \"liver_disease\",\n",
    "    \"alcohol_abuse\", \"drug_abuse\", \"deficiency_anemias\", \"paralysis\", \"weight_loss\",\n",
    "    \"rheumatoid_arthritis\", \"solid_tumor\", \"lymphoma\", \"peptic_ulcer\",\n",
    "    \"blood_loss_anemia\", \"psychoses\", \"aids\", \"metastatic_cancer\", \"diabetes_complicated\",\n",
    "    \"obesity\", \"renal_failure\", \"valvular_disease\", \"hypothyroidism\",\n",
    "    \"peripheral_vascular\", \"pulmonary_circulation\",\n",
    "    \"chronic_pulmonary\", \"diabetes_uncomplicated\", \"congestive_heart_failure\",\n",
    "    \"fluid_electrolyte\", \"hypertension\", \"cardiac_arrhythmias\",\n",
    "]\n",
    "\n",
    "present_rows = [r for r in disease_order if r in heat[\"comorbidity\"].unique()]\n",
    "heat_matrix = (\n",
    "    heat.pivot(index=\"comorbidity\", columns=\"age_bin\", values=\"prevalence_pct\")\n",
    "        .reindex(present_rows)\n",
    "        [[c for c in ['16-24','25-44','45-64','65-84','≥85'] if c in heat[\"age_bin\"].unique()]]\n",
    "        .fillna(0.0)\n",
    ")\n",
    "\n",
    "plt.figure(figsize=(10, 12))\n",
    "ax = sns.heatmap(\n",
    "    heat_matrix,\n",
    "    cmap=\"inferno\",\n",
    "    linewidths=0.75,\n",
    "    annot=True,\n",
    "    cbar_kws={\"label\": \"Prevalence (%)\"},\n",
    ")\n",
    "ax.set_xlabel(\"Age Bracket\")\n",
    "ax.set_ylabel(\"\")\n",
    "ax.set_title(\"Elixhauser Comorbidity Prevalence by Age Group\")\n",
    "plt.tight_layout()\n",
    "plt.show()"
   ]
  },
  {
   "cell_type": "code",
   "execution_count": null,
   "id": "08e688ad",
   "metadata": {},
   "outputs": [],
   "source": [
    "#exporting the heatmap data to a csv file for finer reproduction of the dendrogram using R\n",
    "\n",
    "print(heat_matrix.shape)\n",
    "print(heat_matrix.index[:5])\n",
    "print(heat_matrix.columns)\n",
    "\n",
    "heat_matrix.to_csv(\"../data/heat_matrix_1b.csv\", index=True, encoding=\"utf-8-sig\", float_format=\"%.4f\")"
   ]
  }
 ],
 "metadata": {
  "kernelspec": {
   "display_name": "default",
   "language": "python",
   "name": "python3"
  },
  "language_info": {
   "codemirror_mode": {
    "name": "ipython",
    "version": 3
   },
   "file_extension": ".py",
   "mimetype": "text/x-python",
   "name": "python",
   "nbconvert_exporter": "python",
   "pygments_lexer": "ipython3",
   "version": "3.11.13"
  }
 },
 "nbformat": 4,
 "nbformat_minor": 5
}
