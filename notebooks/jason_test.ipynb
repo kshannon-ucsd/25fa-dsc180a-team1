{
 "cells": [
  {
   "cell_type": "code",
   "execution_count": null,
   "id": "107993cc",
   "metadata": {},
   "outputs": [],
   "source": [
    "from mimiciii_db import DB\n",
    "from mimiciii_db.config import db_url"
   ]
  },
  {
   "cell_type": "code",
   "execution_count": null,
   "id": "130e7522",
   "metadata": {},
   "outputs": [],
   "source": [
    "db_url = DB.from_url(db_url())\n",
    "# conn.query_df(\"SELECT * FROM mimiciii.patients LIMIT 100\")"
   ]
  },
  {
   "cell_type": "code",
   "execution_count": null,
   "id": "1ebd8048",
   "metadata": {},
   "outputs": [],
   "source": [
    "db_url.query_df(\"\")"
   ]
  },
  {
   "cell_type": "code",
   "execution_count": null,
   "id": "738e45fc",
   "metadata": {},
   "outputs": [],
   "source": [
    "table = db_url.table_df(\"mimiciii.CALLOUT\")\n",
    "# table[table['subject_id'] == 109]\n",
    "# set(table.columns)\n",
    "table"
   ]
  },
  {
   "cell_type": "code",
   "execution_count": null,
   "id": "fa29a9e7",
   "metadata": {},
   "outputs": [],
   "source": []
  }
 ],
 "metadata": {
  "kernelspec": {
   "display_name": "default",
   "language": "python",
   "name": "python3"
  },
  "language_info": {
   "codemirror_mode": {
    "name": "ipython",
    "version": 3
   },
   "file_extension": ".py",
   "mimetype": "text/x-python",
   "name": "python",
   "nbconvert_exporter": "python",
   "pygments_lexer": "ipython3",
   "version": "3.11.13"
  }
 },
 "nbformat": 4,
 "nbformat_minor": 5
}
